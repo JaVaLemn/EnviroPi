{
 "cells": [
  {
   "cell_type": "code",
   "execution_count": 1,
   "id": "862c7ad9",
   "metadata": {},
   "outputs": [],
   "source": [
    "#import libraries for coding\n",
    "import busio ##black library\n",
    "import board ##black library\n",
    "import adafruit_ccs811 ##black library\n",
    "import time ##black and blue library\n",
    "import smbus ##blue libarary\n",
    "##!!!!!import gspread ##google sheets library"
   ]
  },
  {
   "cell_type": "code",
   "execution_count": 10,
   "id": "2aaa5bcf",
   "metadata": {},
   "outputs": [
    {
     "ename": "FileNotFoundError",
     "evalue": "[Errno 2] No such file or directory: 'client_secret.json'",
     "output_type": "error",
     "traceback": [
      "\u001b[0;31m---------------------------------------------------------------------------\u001b[0m",
      "\u001b[0;31mFileNotFoundError\u001b[0m                         Traceback (most recent call last)",
      "\u001b[0;32m<ipython-input-10-01996b3f4b0b>\u001b[0m in \u001b[0;36m<module>\u001b[0;34m\u001b[0m\n\u001b[1;32m      4\u001b[0m \u001b[0;31m# use creds to create a client to interact with the Google Drive API\u001b[0m\u001b[0;34m\u001b[0m\u001b[0;34m\u001b[0m\u001b[0;34m\u001b[0m\u001b[0m\n\u001b[1;32m      5\u001b[0m \u001b[0mscopes\u001b[0m \u001b[0;34m=\u001b[0m \u001b[0;34m[\u001b[0m\u001b[0;34m\"https://www.googleapis.com/auth/drive\"\u001b[0m\u001b[0;34m,\u001b[0m \u001b[0;34m\"https://www.googleapis.com/auth/drive.file\"\u001b[0m\u001b[0;34m,\u001b[0m \u001b[0;34m\"https://www.googleapis.com/auth/spreadsheets\"\u001b[0m\u001b[0;34m]\u001b[0m\u001b[0;34m\u001b[0m\u001b[0;34m\u001b[0m\u001b[0m\n\u001b[0;32m----> 6\u001b[0;31m \u001b[0mcreds\u001b[0m \u001b[0;34m=\u001b[0m \u001b[0mServiceAccountCredentials\u001b[0m\u001b[0;34m.\u001b[0m\u001b[0mfrom_json_keyfile_name\u001b[0m\u001b[0;34m(\u001b[0m\u001b[0;34m'client_secret.json'\u001b[0m\u001b[0;34m,\u001b[0m \u001b[0mscopes\u001b[0m\u001b[0;34m)\u001b[0m\u001b[0;34m\u001b[0m\u001b[0;34m\u001b[0m\u001b[0m\n\u001b[0m\u001b[1;32m      7\u001b[0m \u001b[0mclient\u001b[0m \u001b[0;34m=\u001b[0m \u001b[0mgspread\u001b[0m\u001b[0;34m.\u001b[0m\u001b[0mauthorize\u001b[0m\u001b[0;34m(\u001b[0m\u001b[0mcreds\u001b[0m\u001b[0;34m)\u001b[0m\u001b[0;34m\u001b[0m\u001b[0;34m\u001b[0m\u001b[0m\n\u001b[1;32m      8\u001b[0m \u001b[0;34m\u001b[0m\u001b[0m\n",
      "\u001b[0;32m/usr/local/lib/python3.7/dist-packages/oauth2client/service_account.py\u001b[0m in \u001b[0;36mfrom_json_keyfile_name\u001b[0;34m(cls, filename, scopes, token_uri, revoke_uri)\u001b[0m\n\u001b[1;32m    217\u001b[0m                 \u001b[0mthe\u001b[0m \u001b[0mkeyfile\u001b[0m\u001b[0;34m.\u001b[0m\u001b[0;34m\u001b[0m\u001b[0;34m\u001b[0m\u001b[0m\n\u001b[1;32m    218\u001b[0m         \"\"\"\n\u001b[0;32m--> 219\u001b[0;31m         \u001b[0;32mwith\u001b[0m \u001b[0mopen\u001b[0m\u001b[0;34m(\u001b[0m\u001b[0mfilename\u001b[0m\u001b[0;34m,\u001b[0m \u001b[0;34m'r'\u001b[0m\u001b[0;34m)\u001b[0m \u001b[0;32mas\u001b[0m \u001b[0mfile_obj\u001b[0m\u001b[0;34m:\u001b[0m\u001b[0;34m\u001b[0m\u001b[0;34m\u001b[0m\u001b[0m\n\u001b[0m\u001b[1;32m    220\u001b[0m             \u001b[0mclient_credentials\u001b[0m \u001b[0;34m=\u001b[0m \u001b[0mjson\u001b[0m\u001b[0;34m.\u001b[0m\u001b[0mload\u001b[0m\u001b[0;34m(\u001b[0m\u001b[0mfile_obj\u001b[0m\u001b[0;34m)\u001b[0m\u001b[0;34m\u001b[0m\u001b[0;34m\u001b[0m\u001b[0m\n\u001b[1;32m    221\u001b[0m         return cls._from_parsed_json_keyfile(client_credentials, scopes,\n",
      "\u001b[0;31mFileNotFoundError\u001b[0m: [Errno 2] No such file or directory: 'client_secret.json'"
     ]
    }
   ],
   "source": [
    "#google sheet code DON'T RUN RIGHT NOW\n",
    "from oauth2client.service_account import ServiceAccountCredentials\n",
    "\n",
    "# use creds to create a client to interact with the Google Drive API\n",
    "scopes = [\"https://www.googleapis.com/auth/drive\", \"https://www.googleapis.com/auth/drive.file\", \"https://www.googleapis.com/auth/spreadsheets\"]\n",
    "creds = ServiceAccountCredentials.from_json_keyfile_name('client_secret.json', scopes)\n",
    "client = gspread.authorize(creds)\n",
    "\n",
    "# Find a workbook by name and open the first sheet\n",
    "# Make sure you use the right name here.\n",
    "sheet = client.open(\"PiLog\").sheet1"
   ]
  },
  {
   "cell_type": "code",
   "execution_count": 3,
   "id": "f503f588",
   "metadata": {},
   "outputs": [
    {
     "data": {
      "text/plain": [
       "{'spreadsheetId': '1A_DiqnAGVyuwDIVRMzVv74I6P5NEaYuZ2CjlNNvSfFs',\n",
       " 'updates': {'spreadsheetId': '1A_DiqnAGVyuwDIVRMzVv74I6P5NEaYuZ2CjlNNvSfFs',\n",
       "  'updatedRange': 'Sheet1!A1:D1',\n",
       "  'updatedRows': 1,\n",
       "  'updatedColumns': 4,\n",
       "  'updatedCells': 4}}"
      ]
     },
     "execution_count": 3,
     "metadata": {},
     "output_type": "execute_result"
    }
   ],
   "source": [
    "#rowcode DON'T RUN RIGHT NOW\n",
    "row = [\"hi\", \"this\", \"is\", \"KT\"]\n",
    "index = 1\n",
    "sheet.insert_row(row, index)"
   ]
  },
  {
   "cell_type": "code",
   "execution_count": 4,
   "id": "6051e305",
   "metadata": {},
   "outputs": [
    {
     "data": {
      "text/plain": [
       "{'spreadsheetId': '1A_DiqnAGVyuwDIVRMzVv74I6P5NEaYuZ2CjlNNvSfFs',\n",
       " 'tableRange': 'Sheet1!A1:D1',\n",
       " 'updates': {'spreadsheetId': '1A_DiqnAGVyuwDIVRMzVv74I6P5NEaYuZ2CjlNNvSfFs',\n",
       "  'updatedRange': 'Sheet1!A2:D2',\n",
       "  'updatedRows': 1,\n",
       "  'updatedColumns': 4,\n",
       "  'updatedCells': 4}}"
      ]
     },
     "execution_count": 4,
     "metadata": {},
     "output_type": "execute_result"
    }
   ],
   "source": [
    "sheet.append_row(row) #DON'T RUN RIGHT NOW"
   ]
  },
  {
   "cell_type": "code",
   "execution_count": 5,
   "id": "e20ab9d9",
   "metadata": {},
   "outputs": [],
   "source": [
    "# DON'T RUN RIGHT NOW\n",
    "for i in range(10):\n",
    "    row=[i,2*i,i-7]\n",
    "    sheet.append_row(row)"
   ]
  },
  {
   "cell_type": "code",
   "execution_count": 2,
   "id": "84578aa4",
   "metadata": {},
   "outputs": [],
   "source": [
    "#black sensor code\n",
    "from board import *\n",
    "i2c = board.I2C()   # uses board.SCL and board.SDA"
   ]
  },
  {
   "cell_type": "code",
   "execution_count": 3,
   "id": "a393b0e8",
   "metadata": {},
   "outputs": [],
   "source": [
    "#black sensor code\n",
    "ccs =  adafruit_ccs811.CCS811(i2c)"
   ]
  },
  {
   "cell_type": "code",
   "execution_count": 4,
   "id": "eb1b8b92",
   "metadata": {},
   "outputs": [
    {
     "name": "stdout",
     "output_type": "stream",
     "text": [
      "CO2:  None  TVOC: None\n",
      "False\n",
      "CO2:  400  TVOC: 0\n",
      "False\n"
     ]
    },
    {
     "ename": "KeyboardInterrupt",
     "evalue": "",
     "output_type": "error",
     "traceback": [
      "\u001b[0;31m---------------------------------------------------------------------------\u001b[0m",
      "\u001b[0;31mKeyboardInterrupt\u001b[0m                         Traceback (most recent call last)",
      "\u001b[0;32m<ipython-input-4-ed2057b42b5d>\u001b[0m in \u001b[0;36m<module>\u001b[0;34m\u001b[0m\n\u001b[1;32m      3\u001b[0m     \u001b[0mprint\u001b[0m\u001b[0;34m(\u001b[0m\u001b[0;34m\"CO2: \"\u001b[0m\u001b[0;34m,\u001b[0m \u001b[0mccs\u001b[0m\u001b[0;34m.\u001b[0m\u001b[0meco2\u001b[0m\u001b[0;34m,\u001b[0m \u001b[0;34m\" TVOC:\"\u001b[0m\u001b[0;34m,\u001b[0m \u001b[0mccs\u001b[0m\u001b[0;34m.\u001b[0m\u001b[0mtvoc\u001b[0m\u001b[0;34m)\u001b[0m\u001b[0;34m\u001b[0m\u001b[0;34m\u001b[0m\u001b[0m\n\u001b[1;32m      4\u001b[0m     \u001b[0mprint\u001b[0m\u001b[0;34m(\u001b[0m\u001b[0mccs\u001b[0m\u001b[0;34m.\u001b[0m\u001b[0mdata_ready\u001b[0m\u001b[0;34m)\u001b[0m\u001b[0;34m\u001b[0m\u001b[0;34m\u001b[0m\u001b[0m\n\u001b[0;32m----> 5\u001b[0;31m     \u001b[0mtime\u001b[0m\u001b[0;34m.\u001b[0m\u001b[0msleep\u001b[0m\u001b[0;34m(\u001b[0m\u001b[0;36m3\u001b[0m\u001b[0;34m)\u001b[0m\u001b[0;34m\u001b[0m\u001b[0;34m\u001b[0m\u001b[0m\n\u001b[0m",
      "\u001b[0;31mKeyboardInterrupt\u001b[0m: "
     ]
    }
   ],
   "source": [
    "#black sensor code - print readings\n",
    "while True:\n",
    "    print(\"CO2: \", ccs.eco2, \" TVOC:\", ccs.tvoc)\n",
    "    print(ccs.data_ready)\n",
    "    time.sleep(3)"
   ]
  },
  {
   "cell_type": "code",
   "execution_count": 5,
   "id": "1e4a7758",
   "metadata": {},
   "outputs": [],
   "source": [
    "#blue sensor code - read blue sensor data and calculate the ext. temp.\n",
    "def readTemp():\n",
    "    # By default the address of LM75A is set to 0x48\n",
    "    address = 0x48\n",
    "\n",
    "    # Read I2C data and calculate temperature\n",
    "    bus = smbus.SMBus(1)\n",
    "    raw = bus.read_word_data(address, 0) & 0xFFFF\n",
    "    raw = ((raw << 8) & 0xFF00) + (raw >> 8)\n",
    "    temperature = (raw / 32.0) / 8.0\n",
    "    return temperature"
   ]
  },
  {
   "cell_type": "code",
   "execution_count": 6,
   "id": "133c48c0",
   "metadata": {
    "scrolled": false
   },
   "outputs": [
    {
     "name": "stdout",
     "output_type": "stream",
     "text": [
      "javalemon\n",
      "aio_eZeA96r9ApV0ft5gO0oNUFKvoCAr\n"
     ]
    }
   ],
   "source": [
    "#blue sensor code - contact and sign into Adafruit\n",
    "from Adafruit_IO import Client, Feed, RequestError\n",
    "from dotenv import load_dotenv\n",
    "import os\n",
    "\n",
    "#Load login token from .env file\n",
    "load_dotenv()\n",
    "\n",
    "ADAFRUIT_IO_USERNAME = os.environ.get(\"ADAFRUIT_IO_USERNAME\")\n",
    "ADAFRUIT_IO_KEY = os.environ.get(\"ADAFRUIT_IO_KEY\")\n",
    "\n",
    "print(ADAFRUIT_IO_USERNAME)\n",
    "print(ADAFRUIT_IO_KEY)\n",
    "\n",
    "aio = Client(ADAFRUIT_IO_USERNAME, ADAFRUIT_IO_KEY)"
   ]
  },
  {
   "cell_type": "code",
   "execution_count": 7,
   "id": "e2559358",
   "metadata": {},
   "outputs": [],
   "source": [
    "#blue sensor code - bme code\n",
    "from bme280 import BME280\n",
    "bme280 = BME280()"
   ]
  },
  {
   "cell_type": "code",
   "execution_count": 8,
   "id": "8ebcda33",
   "metadata": {
    "scrolled": true
   },
   "outputs": [
    {
     "name": "stdout",
     "output_type": "stream",
     "text": [
      "71.375 :°Fahrenheit|\n",
      "69.16508733144147 :°Fahrenheit|\n",
      "88.2681598298333 :Humidity|\n",
      "684.1512265828492 :Barometric Pressure|\n",
      "400 : PPM (CO2)|\n",
      "0 :PPB (TVOC)|\n",
      "\n",
      "71.375 :°Fahrenheit|\n",
      "78.95720777748477 :°Fahrenheit|\n",
      "48.222547415224426 :Humidity|\n",
      "1007.3925919786357 :Barometric Pressure|\n",
      "400 : PPM (CO2)|\n",
      "0 :PPB (TVOC)|\n",
      "\n",
      "72.275 :°Fahrenheit|\n",
      "79.3291085990498 :°Fahrenheit|\n",
      "54.658423378069514 :Humidity|\n",
      "1007.428249246851 :Barometric Pressure|\n",
      "456 : PPM (CO2)|\n",
      "8 :PPB (TVOC)|\n",
      "\n"
     ]
    },
    {
     "ename": "KeyboardInterrupt",
     "evalue": "",
     "output_type": "error",
     "traceback": [
      "\u001b[0;31m---------------------------------------------------------------------------\u001b[0m",
      "\u001b[0;31mKeyboardInterrupt\u001b[0m                         Traceback (most recent call last)",
      "\u001b[0;32m<ipython-input-8-7e0e95649dd9>\u001b[0m in \u001b[0;36m<module>\u001b[0;34m\u001b[0m\n\u001b[1;32m     33\u001b[0m     \u001b[0mprint\u001b[0m\u001b[0;34m(\u001b[0m\u001b[0mtvoc\u001b[0m\u001b[0;34m,\u001b[0m \u001b[0;34m\":PPB (TVOC)|\"\u001b[0m\u001b[0;34m)\u001b[0m\u001b[0;34m\u001b[0m\u001b[0;34m\u001b[0m\u001b[0m\n\u001b[1;32m     34\u001b[0m     \u001b[0mprint\u001b[0m\u001b[0;34m(\u001b[0m\u001b[0;34m)\u001b[0m\u001b[0;34m\u001b[0m\u001b[0;34m\u001b[0m\u001b[0m\n\u001b[0;32m---> 35\u001b[0;31m     \u001b[0mtime\u001b[0m\u001b[0;34m.\u001b[0m\u001b[0msleep\u001b[0m\u001b[0;34m(\u001b[0m\u001b[0;36m15\u001b[0m\u001b[0;34m)\u001b[0m\u001b[0;34m\u001b[0m\u001b[0;34m\u001b[0m\u001b[0m\n\u001b[0m",
      "\u001b[0;31mKeyboardInterrupt\u001b[0m: "
     ]
    }
   ],
   "source": [
    "#blue sensor code - read feeds, create metadata, create letter variables, print data\n",
    "exterFeed = aio.feeds(\"external\")\n",
    "tempFeed = aio.feeds(\"temperature\")\n",
    "humidFeed = aio.feeds(\"humidity\")\n",
    "pressFeed = aio.feeds(\"pressure\")\n",
    "co2Feed = aio.feeds(\"co2\")\n",
    "tvocFeed = aio.feeds(\"tvoc\")\n",
    "\n",
    "metadata = {\"lat\": 40.262726,\n",
    "            \"lon\": -74.94198,\n",
    "            \"ele\": 0,\n",
    "            \"created_at\": None}\n",
    "while True:\n",
    "    e = readTemp()\n",
    "    t = bme280.get_temperature()\n",
    "    f = e * (9./5.) +32\n",
    "    q = t * (9./5.) +32 \n",
    "    h = bme280.get_humidity()\n",
    "    p = bme280.get_pressure()\n",
    "    co2 = ccs.eco2\n",
    "    tvoc = ccs.tvoc\n",
    "    aio.send_data(exterFeed.key, f, metadata)\n",
    "    aio.send_data(tempFeed.key, q, metadata)\n",
    "    aio.send_data(humidFeed.key, h, metadata)\n",
    "    aio.send_data(pressFeed.key, p, metadata)\n",
    "    aio.send_data(co2Feed.key, co2, metadata)\n",
    "    aio.send_data(tvocFeed.key, tvoc, metadata)\n",
    "    print(f, \":°Fahrenheit|\")\n",
    "    print(q, \":°Fahrenheit|\")\n",
    "    print(h, \":Humidity|\")\n",
    "    print(p, \":Barometric Pressure|\")\n",
    "    print(co2, \": PPM (CO2)|\")\n",
    "    print(tvoc, \":PPB (TVOC)|\")\n",
    "    print()\n",
    "    time.sleep(15)"
   ]
  },
  {
   "cell_type": "code",
   "execution_count": null,
   "id": "dd286265",
   "metadata": {},
   "outputs": [],
   "source": []
  }
 ],
 "metadata": {
  "kernelspec": {
   "display_name": "Python 3",
   "language": "python",
   "name": "python3"
  },
  "language_info": {
   "codemirror_mode": {
    "name": "ipython",
    "version": 3
   },
   "file_extension": ".py",
   "mimetype": "text/x-python",
   "name": "python",
   "nbconvert_exporter": "python",
   "pygments_lexer": "ipython3",
   "version": "3.7.3"
  }
 },
 "nbformat": 4,
 "nbformat_minor": 5
}
