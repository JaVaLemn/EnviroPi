{
 "cells": [
  {
   "cell_type": "code",
   "execution_count": 1,
   "id": "862c7ad9",
   "metadata": {},
   "outputs": [],
   "source": [
    "#import libraries for coding\n",
    "import busio ##black library\n",
    "import board ##black library\n",
    "import adafruit_ccs811 ##black library\n",
    "import time ##black and blue library\n",
    "import smbus ##blue libarary\n",
    "import gspread ##google sheets library"
   ]
  },
  {
   "cell_type": "code",
   "execution_count": 2,
   "id": "2aaa5bcf",
   "metadata": {},
   "outputs": [],
   "source": [
    "#google sheet code\n",
    "from oauth2client.service_account import ServiceAccountCredentials\n",
    "\n",
    "# use creds to create a client to interact with the Google Drive API\n",
    "scopes = [\"https://www.googleapis.com/auth/drive\", \"https://www.googleapis.com/auth/drive.file\", \"https://www.googleapis.com/auth/spreadsheets\"]\n",
    "creds = ServiceAccountCredentials.from_json_keyfile_name('client_secret.json', scopes)\n",
    "client = gspread.authorize(creds)\n",
    "\n",
    "# Find a workbook by name and open the first sheet\n",
    "# Make sure you use the right name here.\n",
    "sheet = client.open(\"PiLog\").sheet1"
   ]
  },
  {
   "cell_type": "code",
   "execution_count": 3,
   "id": "f503f588",
   "metadata": {},
   "outputs": [
    {
     "data": {
      "text/plain": [
       "{'spreadsheetId': '1A_DiqnAGVyuwDIVRMzVv74I6P5NEaYuZ2CjlNNvSfFs',\n",
       " 'updates': {'spreadsheetId': '1A_DiqnAGVyuwDIVRMzVv74I6P5NEaYuZ2CjlNNvSfFs',\n",
       "  'updatedRange': 'Sheet1!A1:D1',\n",
       "  'updatedRows': 1,\n",
       "  'updatedColumns': 4,\n",
       "  'updatedCells': 4}}"
      ]
     },
     "execution_count": 3,
     "metadata": {},
     "output_type": "execute_result"
    }
   ],
   "source": [
    "#rowcode\n",
    "row = [\"hi\", \"this\", \"is\", \"KT\"]\n",
    "index = 1\n",
    "sheet.insert_row(row, index)"
   ]
  },
  {
   "cell_type": "code",
   "execution_count": 4,
   "id": "6051e305",
   "metadata": {},
   "outputs": [
    {
     "data": {
      "text/plain": [
       "{'spreadsheetId': '1A_DiqnAGVyuwDIVRMzVv74I6P5NEaYuZ2CjlNNvSfFs',\n",
       " 'tableRange': 'Sheet1!A1:D1',\n",
       " 'updates': {'spreadsheetId': '1A_DiqnAGVyuwDIVRMzVv74I6P5NEaYuZ2CjlNNvSfFs',\n",
       "  'updatedRange': 'Sheet1!A2:D2',\n",
       "  'updatedRows': 1,\n",
       "  'updatedColumns': 4,\n",
       "  'updatedCells': 4}}"
      ]
     },
     "execution_count": 4,
     "metadata": {},
     "output_type": "execute_result"
    }
   ],
   "source": [
    "sheet.append_row(row)"
   ]
  },
  {
   "cell_type": "code",
   "execution_count": 5,
   "id": "e20ab9d9",
   "metadata": {},
   "outputs": [],
   "source": [
    "for i in range(10):\n",
    "    row=[i,2*i,i-7]\n",
    "    sheet.append_row(row)"
   ]
  },
  {
   "cell_type": "code",
   "execution_count": 6,
   "id": "84578aa4",
   "metadata": {},
   "outputs": [],
   "source": [
    "#black sensor code\n",
    "from board import *\n",
    "i2c = board.I2C()   # uses board.SCL and board.SDA"
   ]
  },
  {
   "cell_type": "code",
   "execution_count": 7,
   "id": "a393b0e8",
   "metadata": {},
   "outputs": [],
   "source": [
    "#black sensor code\n",
    "ccs =  adafruit_ccs811.CCS811(i2c)"
   ]
  },
  {
   "cell_type": "code",
   "execution_count": 8,
   "id": "eb1b8b92",
   "metadata": {},
   "outputs": [
    {
     "name": "stdout",
     "output_type": "stream",
     "text": [
      "CO2:  None  TVOC: None\n",
      "False\n",
      "CO2:  None  TVOC: None\n",
      "False\n",
      "CO2:  400  TVOC: 0\n",
      "False\n",
      "CO2:  400  TVOC: 0\n",
      "False\n",
      "CO2:  400  TVOC: 0\n",
      "False\n",
      "CO2:  627  TVOC: 34\n",
      "False\n",
      "CO2:  400  TVOC: 0\n",
      "False\n"
     ]
    },
    {
     "ename": "KeyboardInterrupt",
     "evalue": "",
     "output_type": "error",
     "traceback": [
      "\u001b[0;31m---------------------------------------------------------------------------\u001b[0m",
      "\u001b[0;31mKeyboardInterrupt\u001b[0m                         Traceback (most recent call last)",
      "\u001b[0;32m<ipython-input-8-ed2057b42b5d>\u001b[0m in \u001b[0;36m<module>\u001b[0;34m\u001b[0m\n\u001b[1;32m      3\u001b[0m     \u001b[0mprint\u001b[0m\u001b[0;34m(\u001b[0m\u001b[0;34m\"CO2: \"\u001b[0m\u001b[0;34m,\u001b[0m \u001b[0mccs\u001b[0m\u001b[0;34m.\u001b[0m\u001b[0meco2\u001b[0m\u001b[0;34m,\u001b[0m \u001b[0;34m\" TVOC:\"\u001b[0m\u001b[0;34m,\u001b[0m \u001b[0mccs\u001b[0m\u001b[0;34m.\u001b[0m\u001b[0mtvoc\u001b[0m\u001b[0;34m)\u001b[0m\u001b[0;34m\u001b[0m\u001b[0;34m\u001b[0m\u001b[0m\n\u001b[1;32m      4\u001b[0m     \u001b[0mprint\u001b[0m\u001b[0;34m(\u001b[0m\u001b[0mccs\u001b[0m\u001b[0;34m.\u001b[0m\u001b[0mdata_ready\u001b[0m\u001b[0;34m)\u001b[0m\u001b[0;34m\u001b[0m\u001b[0;34m\u001b[0m\u001b[0m\n\u001b[0;32m----> 5\u001b[0;31m     \u001b[0mtime\u001b[0m\u001b[0;34m.\u001b[0m\u001b[0msleep\u001b[0m\u001b[0;34m(\u001b[0m\u001b[0;36m3\u001b[0m\u001b[0;34m)\u001b[0m\u001b[0;34m\u001b[0m\u001b[0;34m\u001b[0m\u001b[0m\n\u001b[0m",
      "\u001b[0;31mKeyboardInterrupt\u001b[0m: "
     ]
    }
   ],
   "source": [
    "#black sensor code - print readings\n",
    "while True:\n",
    "    print(\"CO2: \", ccs.eco2, \" TVOC:\", ccs.tvoc)\n",
    "    print(ccs.data_ready)\n",
    "    time.sleep(3)"
   ]
  },
  {
   "cell_type": "code",
   "execution_count": 9,
   "id": "1e4a7758",
   "metadata": {},
   "outputs": [],
   "source": [
    "#blue sensor code - read blue sensor data and calculate the ext. temp.\n",
    "def readTemp():\n",
    "    # By default the address of LM75A is set to 0x48\n",
    "    address = 0x48\n",
    "\n",
    "    # Read I2C data and calculate temperature\n",
    "    bus = smbus.SMBus(1)\n",
    "    raw = bus.read_word_data(address, 0) & 0xFFFF\n",
    "    raw = ((raw << 8) & 0xFF00) + (raw >> 8)\n",
    "    temperature = (raw / 32.0) / 8.0\n",
    "    return temperature"
   ]
  },
  {
   "cell_type": "code",
   "execution_count": 10,
   "id": "133c48c0",
   "metadata": {},
   "outputs": [],
   "source": [
    "#blue sensor code - contact and sign into Adafruit\n",
    "from Adafruit_IO import Client, Feed, RequestError\n",
    "\n",
    "ADAFRUIT_IO_USERNAME = \"javalemon\"\n",
    "ADAFRUIT_IO_KEY = \"aio_eZeA96r9ApV0ft5gO0oNUFKvoCAr\"\n",
    "\n",
    "aio = Client(ADAFRUIT_IO_USERNAME, ADAFRUIT_IO_KEY)"
   ]
  },
  {
   "cell_type": "code",
   "execution_count": 11,
   "id": "e2559358",
   "metadata": {},
   "outputs": [],
   "source": [
    "#blue sensor code - bme code\n",
    "from bme280 import BME280\n",
    "bme280 = BME280()"
   ]
  },
  {
   "cell_type": "code",
   "execution_count": 13,
   "id": "8ebcda33",
   "metadata": {},
   "outputs": [
    {
     "name": "stdout",
     "output_type": "stream",
     "text": [
      "75.875 :°Fahrenheit|\n",
      "85.53720571249899 :°Fahrenheit|\n",
      "35.964162126339566 :Humidity|\n",
      "1013.0034510709307 :Barometric Pressure|\n",
      "400 : PPM (CO2)|\n",
      "0 :PPB (TVOC)|\n",
      "\n",
      "75.875 :°Fahrenheit|\n",
      "85.55568598251006 :°Fahrenheit|\n",
      "35.98787212542738 :Humidity|\n",
      "1013.0525828812436 :Barometric Pressure|\n",
      "400 : PPM (CO2)|\n",
      "0 :PPB (TVOC)|\n",
      "\n",
      "75.875 :°Fahrenheit|\n",
      "85.64115725856875 :°Fahrenheit|\n",
      "35.969319170147564 :Humidity|\n",
      "1012.9969179157447 :Barometric Pressure|\n",
      "400 : PPM (CO2)|\n",
      "0 :PPB (TVOC)|\n",
      "\n",
      "75.875 :°Fahrenheit|\n",
      "85.5539534571075 :°Fahrenheit|\n",
      "36.011738652936415 :Humidity|\n",
      "1013.018069966543 :Barometric Pressure|\n",
      "403 : PPM (CO2)|\n",
      "0 :PPB (TVOC)|\n",
      "\n"
     ]
    },
    {
     "ename": "KeyboardInterrupt",
     "evalue": "",
     "output_type": "error",
     "traceback": [
      "\u001b[0;31m---------------------------------------------------------------------------\u001b[0m",
      "\u001b[0;31mKeyboardInterrupt\u001b[0m                         Traceback (most recent call last)",
      "\u001b[0;32m<ipython-input-13-7e0e95649dd9>\u001b[0m in \u001b[0;36m<module>\u001b[0;34m\u001b[0m\n\u001b[1;32m     33\u001b[0m     \u001b[0mprint\u001b[0m\u001b[0;34m(\u001b[0m\u001b[0mtvoc\u001b[0m\u001b[0;34m,\u001b[0m \u001b[0;34m\":PPB (TVOC)|\"\u001b[0m\u001b[0;34m)\u001b[0m\u001b[0;34m\u001b[0m\u001b[0;34m\u001b[0m\u001b[0m\n\u001b[1;32m     34\u001b[0m     \u001b[0mprint\u001b[0m\u001b[0;34m(\u001b[0m\u001b[0;34m)\u001b[0m\u001b[0;34m\u001b[0m\u001b[0;34m\u001b[0m\u001b[0m\n\u001b[0;32m---> 35\u001b[0;31m     \u001b[0mtime\u001b[0m\u001b[0;34m.\u001b[0m\u001b[0msleep\u001b[0m\u001b[0;34m(\u001b[0m\u001b[0;36m15\u001b[0m\u001b[0;34m)\u001b[0m\u001b[0;34m\u001b[0m\u001b[0;34m\u001b[0m\u001b[0m\n\u001b[0m",
      "\u001b[0;31mKeyboardInterrupt\u001b[0m: "
     ]
    }
   ],
   "source": [
    "#blue sensor code - read feeds, create metadata, create letter variables, print data\n",
    "exterFeed = aio.feeds(\"external\")\n",
    "tempFeed = aio.feeds(\"temperature\")\n",
    "humidFeed = aio.feeds(\"humidity\")\n",
    "pressFeed = aio.feeds(\"pressure\")\n",
    "co2Feed = aio.feeds(\"co2\")\n",
    "tvocFeed = aio.feeds(\"tvoc\")\n",
    "\n",
    "metadata = {\"lat\": 40.262726,\n",
    "            \"lon\": -74.94198,\n",
    "            \"ele\": 0,\n",
    "            \"created_at\": None}\n",
    "while True:\n",
    "    e = readTemp()\n",
    "    t = bme280.get_temperature()\n",
    "    f = e * (9./5.) +32\n",
    "    q = t * (9./5.) +32 \n",
    "    h = bme280.get_humidity()\n",
    "    p = bme280.get_pressure()\n",
    "    co2 = ccs.eco2\n",
    "    tvoc = ccs.tvoc\n",
    "    aio.send_data(exterFeed.key, f, metadata)\n",
    "    aio.send_data(tempFeed.key, q, metadata)\n",
    "    aio.send_data(humidFeed.key, h, metadata)\n",
    "    aio.send_data(pressFeed.key, p, metadata)\n",
    "    aio.send_data(co2Feed.key, co2, metadata)\n",
    "    aio.send_data(tvocFeed.key, tvoc, metadata)\n",
    "    print(f, \":°Fahrenheit|\")\n",
    "    print(q, \":°Fahrenheit|\")\n",
    "    print(h, \":Humidity|\")\n",
    "    print(p, \":Barometric Pressure|\")\n",
    "    print(co2, \": PPM (CO2)|\")\n",
    "    print(tvoc, \":PPB (TVOC)|\")\n",
    "    print()\n",
    "    time.sleep(15)"
   ]
  },
  {
   "cell_type": "code",
   "execution_count": null,
   "id": "dd286265",
   "metadata": {},
   "outputs": [],
   "source": []
  }
 ],
 "metadata": {
  "kernelspec": {
   "display_name": "Python 3",
   "language": "python",
   "name": "python3"
  },
  "language_info": {
   "codemirror_mode": {
    "name": "ipython",
    "version": 3
   },
   "file_extension": ".py",
   "mimetype": "text/x-python",
   "name": "python",
   "nbconvert_exporter": "python",
   "pygments_lexer": "ipython3",
   "version": "3.7.3"
  }
 },
 "nbformat": 4,
 "nbformat_minor": 5
}
