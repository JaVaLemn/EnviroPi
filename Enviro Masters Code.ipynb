{
 "cells": [
  {
   "cell_type": "markdown",
   "id": "1fbee6a1",
   "metadata": {},
   "source": [
    "# Environmental Master Code\n",
    "## This is my master code for the Raspberry Pi.\n",
    "##### Please do not edit, copy, or use without permission from owner, thank you."
   ]
  },
  {
   "cell_type": "markdown",
   "id": "2c0b8f84",
   "metadata": {},
   "source": [
    "### Import coding libraries to use"
   ]
  },
  {
   "cell_type": "code",
   "execution_count": 4,
   "id": "862c7ad9",
   "metadata": {},
   "outputs": [],
   "source": [
    "import busio ##black sensor library\n",
    "import board ##black sensor library\n",
    "import adafruit_ccs811 ##black sensor library\n",
    "import smbus ##blue sensor libarary\n",
    "import gspread ##google sheets library\n",
    "import time ##library for general use"
   ]
  },
  {
   "cell_type": "markdown",
   "id": "b758ba2f",
   "metadata": {},
   "source": [
    "### Code for Google Sheets"
   ]
  },
  {
   "cell_type": "code",
   "execution_count": 5,
   "id": "2aaa5bcf",
   "metadata": {},
   "outputs": [],
   "source": [
    "from oauth2client.service_account import ServiceAccountCredentials\n",
    "\n",
    "sheet_name = \"EnviroPiLog\"\n",
    "\n",
    "# use creds to create a client to interact with the Google Drive API\n",
    "scopes = [\"https://www.googleapis.com/auth/drive\", \"https://www.googleapis.com/auth/drive.file\", \n",
    "          \"https://www.googleapis.com/auth/spreadsheets\"]\n",
    "creds = ServiceAccountCredentials.from_json_keyfile_name('client_secret.json', scopes)\n",
    "client = gspread.authorize(creds)\n",
    "\n",
    "# Find the workbook by name and open the first sheet\n",
    "sheet = client.open(sheet_name).sheet1"
   ]
  },
  {
   "cell_type": "markdown",
   "id": "32e5f39d",
   "metadata": {},
   "source": [
    "### Code for the black external sensor"
   ]
  },
  {
   "cell_type": "code",
   "execution_count": 6,
   "id": "84578aa4",
   "metadata": {},
   "outputs": [],
   "source": [
    "from board import *\n",
    "i2c = board.I2C()   # uses board.SCL and board.SDA"
   ]
  },
  {
   "cell_type": "code",
   "execution_count": 7,
   "id": "a393b0e8",
   "metadata": {},
   "outputs": [],
   "source": [
    "#black sensor talks with adafruit\n",
    "ccs =  adafruit_ccs811.CCS811(i2c)"
   ]
  },
  {
   "cell_type": "code",
   "execution_count": 8,
   "id": "eb1b8b92",
   "metadata": {},
   "outputs": [
    {
     "name": "stdout",
     "output_type": "stream",
     "text": [
      "CO2:  400  TVOC: 0\n",
      "False\n"
     ]
    },
    {
     "ename": "KeyboardInterrupt",
     "evalue": "",
     "output_type": "error",
     "traceback": [
      "\u001b[0;31m---------------------------------------------------------------------------\u001b[0m",
      "\u001b[0;31mKeyboardInterrupt\u001b[0m                         Traceback (most recent call last)",
      "\u001b[0;32m<ipython-input-8-57844fce85a0>\u001b[0m in \u001b[0;36m<module>\u001b[0;34m\u001b[0m\n\u001b[1;32m      3\u001b[0m     \u001b[0mprint\u001b[0m\u001b[0;34m(\u001b[0m\u001b[0;34m\"CO2: \"\u001b[0m\u001b[0;34m,\u001b[0m \u001b[0mccs\u001b[0m\u001b[0;34m.\u001b[0m\u001b[0meco2\u001b[0m\u001b[0;34m,\u001b[0m \u001b[0;34m\" TVOC:\"\u001b[0m\u001b[0;34m,\u001b[0m \u001b[0mccs\u001b[0m\u001b[0;34m.\u001b[0m\u001b[0mtvoc\u001b[0m\u001b[0;34m)\u001b[0m\u001b[0;34m\u001b[0m\u001b[0;34m\u001b[0m\u001b[0m\n\u001b[1;32m      4\u001b[0m     \u001b[0mprint\u001b[0m\u001b[0;34m(\u001b[0m\u001b[0mccs\u001b[0m\u001b[0;34m.\u001b[0m\u001b[0mdata_ready\u001b[0m\u001b[0;34m)\u001b[0m\u001b[0;34m\u001b[0m\u001b[0;34m\u001b[0m\u001b[0m\n\u001b[0;32m----> 5\u001b[0;31m     \u001b[0mtime\u001b[0m\u001b[0;34m.\u001b[0m\u001b[0msleep\u001b[0m\u001b[0;34m(\u001b[0m\u001b[0;36m3\u001b[0m\u001b[0;34m)\u001b[0m\u001b[0;34m\u001b[0m\u001b[0;34m\u001b[0m\u001b[0m\n\u001b[0m",
      "\u001b[0;31mKeyboardInterrupt\u001b[0m: "
     ]
    }
   ],
   "source": [
    "#print black sensor readings (pause after you get a reading to continue)\n",
    "while True:\n",
    "    print(\"CO2: \", ccs.eco2, \" TVOC:\", ccs.tvoc)\n",
    "    print(ccs.data_ready)\n",
    "    time.sleep(3)"
   ]
  },
  {
   "cell_type": "markdown",
   "id": "a10fb706",
   "metadata": {},
   "source": [
    "### Code for the blue external sensor"
   ]
  },
  {
   "cell_type": "code",
   "execution_count": 9,
   "id": "1e4a7758",
   "metadata": {},
   "outputs": [],
   "source": [
    "#read blue sensor data and calculate the external temperature\n",
    "def readTemp():\n",
    "    # By default the address of LM75A is set to 0x48\n",
    "    address = 0x48\n",
    "\n",
    "    # Read I2C data and calculate temperature\n",
    "    bus = smbus.SMBus(1)\n",
    "    raw = bus.read_word_data(address, 0) & 0xFFFF\n",
    "    raw = ((raw << 8) & 0xFF00) + (raw >> 8)\n",
    "    temperature = (raw / 32.0) / 8.0\n",
    "    return temperature"
   ]
  },
  {
   "cell_type": "code",
   "execution_count": 10,
   "id": "133c48c0",
   "metadata": {
    "scrolled": false
   },
   "outputs": [],
   "source": [
    "#contact and sign into Adafruit with the .env\n",
    "from Adafruit_IO import Client, Feed, RequestError\n",
    "from dotenv import load_dotenv\n",
    "import os\n",
    "\n",
    "#Load login token from .env file\n",
    "load_dotenv()\n",
    "\n",
    "ADAFRUIT_IO_USERNAME = os.environ.get(\"ADAFRUIT_IO_USERNAME\")\n",
    "ADAFRUIT_IO_KEY = os.environ.get(\"ADAFRUIT_IO_KEY\")\n",
    "\n",
    "aio = Client(ADAFRUIT_IO_USERNAME, ADAFRUIT_IO_KEY)"
   ]
  },
  {
   "cell_type": "code",
   "execution_count": 11,
   "id": "e2559358",
   "metadata": {},
   "outputs": [],
   "source": [
    "#talk with bme280\n",
    "from bme280 import BME280\n",
    "bme280 = BME280()"
   ]
  },
  {
   "cell_type": "markdown",
   "id": "203c0b12",
   "metadata": {},
   "source": [
    "### Main code for everything"
   ]
  },
  {
   "cell_type": "code",
   "execution_count": 19,
   "id": "8ebcda33",
   "metadata": {
    "scrolled": true
   },
   "outputs": [
    {
     "ename": "APIError",
     "evalue": "{'code': 400, 'message': \"Unable to parse range: 'Sheet1'\", 'status': 'INVALID_ARGUMENT'}",
     "output_type": "error",
     "traceback": [
      "\u001b[0;31m---------------------------------------------------------------------------\u001b[0m",
      "\u001b[0;31mAPIError\u001b[0m                                  Traceback (most recent call last)",
      "\u001b[0;32m<ipython-input-19-365831a6ab8d>\u001b[0m in \u001b[0;36m<module>\u001b[0;34m\u001b[0m\n\u001b[1;32m     39\u001b[0m     \u001b[0mnow_day\u001b[0m \u001b[0;34m=\u001b[0m \u001b[0mnow\u001b[0m\u001b[0;34m.\u001b[0m\u001b[0mstrftime\u001b[0m\u001b[0;34m(\u001b[0m\u001b[0;34m\"%m/%d/%Y\"\u001b[0m\u001b[0;34m)\u001b[0m\u001b[0;34m\u001b[0m\u001b[0;34m\u001b[0m\u001b[0m\n\u001b[1;32m     40\u001b[0m     \u001b[0mrow\u001b[0m\u001b[0;34m=\u001b[0m\u001b[0;34m[\u001b[0m\u001b[0mnow_day\u001b[0m\u001b[0;34m,\u001b[0m \u001b[0mnow_time\u001b[0m\u001b[0;34m,\u001b[0m \u001b[0mf\u001b[0m\u001b[0;34m,\u001b[0m \u001b[0mq\u001b[0m\u001b[0;34m,\u001b[0m \u001b[0mh\u001b[0m\u001b[0;34m,\u001b[0m \u001b[0mp\u001b[0m\u001b[0;34m,\u001b[0m \u001b[0mco2\u001b[0m\u001b[0;34m,\u001b[0m \u001b[0mtvoc\u001b[0m\u001b[0;34m]\u001b[0m\u001b[0;34m\u001b[0m\u001b[0;34m\u001b[0m\u001b[0m\n\u001b[0;32m---> 41\u001b[0;31m     \u001b[0msheet\u001b[0m\u001b[0;34m.\u001b[0m\u001b[0mappend_row\u001b[0m\u001b[0;34m(\u001b[0m\u001b[0mrow\u001b[0m\u001b[0;34m)\u001b[0m\u001b[0;34m\u001b[0m\u001b[0;34m\u001b[0m\u001b[0m\n\u001b[0m\u001b[1;32m     42\u001b[0m     \u001b[0;31m#print data to notebook\u001b[0m\u001b[0;34m\u001b[0m\u001b[0;34m\u001b[0m\u001b[0;34m\u001b[0m\u001b[0m\n\u001b[1;32m     43\u001b[0m     \u001b[0mprint\u001b[0m\u001b[0;34m(\u001b[0m\u001b[0mf\u001b[0m\u001b[0;34m,\u001b[0m \u001b[0;34m\":°Fahrenheit|\"\u001b[0m\u001b[0;34m)\u001b[0m\u001b[0;34m\u001b[0m\u001b[0;34m\u001b[0m\u001b[0m\n",
      "\u001b[0;32m/usr/local/lib/python3.7/dist-packages/gspread/models.py\u001b[0m in \u001b[0;36mappend_row\u001b[0;34m(self, values, value_input_option, insert_data_option, table_range)\u001b[0m\n\u001b[1;32m   1620\u001b[0m             \u001b[0mvalue_input_option\u001b[0m\u001b[0;34m=\u001b[0m\u001b[0mvalue_input_option\u001b[0m\u001b[0;34m,\u001b[0m\u001b[0;34m\u001b[0m\u001b[0;34m\u001b[0m\u001b[0m\n\u001b[1;32m   1621\u001b[0m             \u001b[0minsert_data_option\u001b[0m\u001b[0;34m=\u001b[0m\u001b[0minsert_data_option\u001b[0m\u001b[0;34m,\u001b[0m\u001b[0;34m\u001b[0m\u001b[0;34m\u001b[0m\u001b[0m\n\u001b[0;32m-> 1622\u001b[0;31m             \u001b[0mtable_range\u001b[0m\u001b[0;34m=\u001b[0m\u001b[0mtable_range\u001b[0m\u001b[0;34m,\u001b[0m\u001b[0;34m\u001b[0m\u001b[0;34m\u001b[0m\u001b[0m\n\u001b[0m\u001b[1;32m   1623\u001b[0m         )\n\u001b[1;32m   1624\u001b[0m \u001b[0;34m\u001b[0m\u001b[0m\n",
      "\u001b[0;32m/usr/local/lib/python3.7/dist-packages/gspread/models.py\u001b[0m in \u001b[0;36mappend_rows\u001b[0;34m(self, values, value_input_option, insert_data_option, table_range)\u001b[0m\n\u001b[1;32m   1658\u001b[0m         \u001b[0mbody\u001b[0m \u001b[0;34m=\u001b[0m \u001b[0;34m{\u001b[0m\u001b[0;34m'values'\u001b[0m\u001b[0;34m:\u001b[0m \u001b[0mvalues\u001b[0m\u001b[0;34m}\u001b[0m\u001b[0;34m\u001b[0m\u001b[0;34m\u001b[0m\u001b[0m\n\u001b[1;32m   1659\u001b[0m \u001b[0;34m\u001b[0m\u001b[0m\n\u001b[0;32m-> 1660\u001b[0;31m         \u001b[0;32mreturn\u001b[0m \u001b[0mself\u001b[0m\u001b[0;34m.\u001b[0m\u001b[0mspreadsheet\u001b[0m\u001b[0;34m.\u001b[0m\u001b[0mvalues_append\u001b[0m\u001b[0;34m(\u001b[0m\u001b[0mrange_label\u001b[0m\u001b[0;34m,\u001b[0m \u001b[0mparams\u001b[0m\u001b[0;34m,\u001b[0m \u001b[0mbody\u001b[0m\u001b[0;34m)\u001b[0m\u001b[0;34m\u001b[0m\u001b[0;34m\u001b[0m\u001b[0m\n\u001b[0m\u001b[1;32m   1661\u001b[0m \u001b[0;34m\u001b[0m\u001b[0m\n\u001b[1;32m   1662\u001b[0m     \u001b[0;32mdef\u001b[0m \u001b[0minsert_row\u001b[0m\u001b[0;34m(\u001b[0m\u001b[0mself\u001b[0m\u001b[0;34m,\u001b[0m \u001b[0mvalues\u001b[0m\u001b[0;34m,\u001b[0m \u001b[0mindex\u001b[0m\u001b[0;34m=\u001b[0m\u001b[0;36m1\u001b[0m\u001b[0;34m,\u001b[0m \u001b[0mvalue_input_option\u001b[0m\u001b[0;34m=\u001b[0m\u001b[0;34m'RAW'\u001b[0m\u001b[0;34m)\u001b[0m\u001b[0;34m:\u001b[0m\u001b[0;34m\u001b[0m\u001b[0;34m\u001b[0m\u001b[0m\n",
      "\u001b[0;32m/usr/local/lib/python3.7/dist-packages/gspread/models.py\u001b[0m in \u001b[0;36mvalues_append\u001b[0;34m(self, range, params, body)\u001b[0m\n\u001b[1;32m    187\u001b[0m         \"\"\"\n\u001b[1;32m    188\u001b[0m         \u001b[0murl\u001b[0m \u001b[0;34m=\u001b[0m \u001b[0mSPREADSHEET_VALUES_APPEND_URL\u001b[0m \u001b[0;34m%\u001b[0m \u001b[0;34m(\u001b[0m\u001b[0mself\u001b[0m\u001b[0;34m.\u001b[0m\u001b[0mid\u001b[0m\u001b[0;34m,\u001b[0m \u001b[0mquote\u001b[0m\u001b[0;34m(\u001b[0m\u001b[0mrange\u001b[0m\u001b[0;34m)\u001b[0m\u001b[0;34m)\u001b[0m\u001b[0;34m\u001b[0m\u001b[0;34m\u001b[0m\u001b[0m\n\u001b[0;32m--> 189\u001b[0;31m         \u001b[0mr\u001b[0m \u001b[0;34m=\u001b[0m \u001b[0mself\u001b[0m\u001b[0;34m.\u001b[0m\u001b[0mclient\u001b[0m\u001b[0;34m.\u001b[0m\u001b[0mrequest\u001b[0m\u001b[0;34m(\u001b[0m\u001b[0;34m'post'\u001b[0m\u001b[0;34m,\u001b[0m \u001b[0murl\u001b[0m\u001b[0;34m,\u001b[0m \u001b[0mparams\u001b[0m\u001b[0;34m=\u001b[0m\u001b[0mparams\u001b[0m\u001b[0;34m,\u001b[0m \u001b[0mjson\u001b[0m\u001b[0;34m=\u001b[0m\u001b[0mbody\u001b[0m\u001b[0;34m)\u001b[0m\u001b[0;34m\u001b[0m\u001b[0;34m\u001b[0m\u001b[0m\n\u001b[0m\u001b[1;32m    190\u001b[0m         \u001b[0;32mreturn\u001b[0m \u001b[0mr\u001b[0m\u001b[0;34m.\u001b[0m\u001b[0mjson\u001b[0m\u001b[0;34m(\u001b[0m\u001b[0;34m)\u001b[0m\u001b[0;34m\u001b[0m\u001b[0;34m\u001b[0m\u001b[0m\n\u001b[1;32m    191\u001b[0m \u001b[0;34m\u001b[0m\u001b[0m\n",
      "\u001b[0;32m/usr/local/lib/python3.7/dist-packages/gspread/client.py\u001b[0m in \u001b[0;36mrequest\u001b[0;34m(self, method, endpoint, params, data, json, files, headers)\u001b[0m\n\u001b[1;32m     74\u001b[0m             \u001b[0;32mreturn\u001b[0m \u001b[0mresponse\u001b[0m\u001b[0;34m\u001b[0m\u001b[0;34m\u001b[0m\u001b[0m\n\u001b[1;32m     75\u001b[0m         \u001b[0;32melse\u001b[0m\u001b[0;34m:\u001b[0m\u001b[0;34m\u001b[0m\u001b[0;34m\u001b[0m\u001b[0m\n\u001b[0;32m---> 76\u001b[0;31m             \u001b[0;32mraise\u001b[0m \u001b[0mAPIError\u001b[0m\u001b[0;34m(\u001b[0m\u001b[0mresponse\u001b[0m\u001b[0;34m)\u001b[0m\u001b[0;34m\u001b[0m\u001b[0;34m\u001b[0m\u001b[0m\n\u001b[0m\u001b[1;32m     77\u001b[0m \u001b[0;34m\u001b[0m\u001b[0m\n\u001b[1;32m     78\u001b[0m     \u001b[0;32mdef\u001b[0m \u001b[0mlist_spreadsheet_files\u001b[0m\u001b[0;34m(\u001b[0m\u001b[0mself\u001b[0m\u001b[0;34m,\u001b[0m \u001b[0mtitle\u001b[0m\u001b[0;34m=\u001b[0m\u001b[0;32mNone\u001b[0m\u001b[0;34m)\u001b[0m\u001b[0;34m:\u001b[0m\u001b[0;34m\u001b[0m\u001b[0;34m\u001b[0m\u001b[0m\n",
      "\u001b[0;31mAPIError\u001b[0m: {'code': 400, 'message': \"Unable to parse range: 'Sheet1'\", 'status': 'INVALID_ARGUMENT'}"
     ]
    }
   ],
   "source": [
    "#read adafruit feeds\n",
    "exterFeed = aio.feeds(\"external\")\n",
    "tempFeed = aio.feeds(\"temperature\")\n",
    "humidFeed = aio.feeds(\"humidity\")\n",
    "pressFeed = aio.feeds(\"pressure\")\n",
    "co2Feed = aio.feeds(\"co2\")\n",
    "tvocFeed = aio.feeds(\"tvoc\")\n",
    "\n",
    "#create metadata (location)\n",
    "metadata = {\"lat\": 40.262726,\n",
    "            \"lon\": -74.94198,\n",
    "            \"ele\": 0,\n",
    "            \"created_at\": None}\n",
    "\n",
    "#google sheets import datetime\n",
    "from datetime import datetime\n",
    "\n",
    "#MAIN LOOP\n",
    "while True:\n",
    "    #create letter variables\n",
    "    e = readTemp()\n",
    "    t = bme280.get_temperature()\n",
    "    f = e * (9./5.) +32\n",
    "    q = t * (9./5.) +32 \n",
    "    h = bme280.get_humidity()\n",
    "    p = bme280.get_pressure()\n",
    "    co2 = ccs.eco2\n",
    "    tvoc = ccs.tvoc\n",
    "    #talk with aio.send_data\n",
    "    aio.send_data(exterFeed.key, f, metadata)\n",
    "    aio.send_data(tempFeed.key, q, metadata)\n",
    "    aio.send_data(humidFeed.key, h, metadata)\n",
    "    aio.send_data(pressFeed.key, p, metadata)\n",
    "    aio.send_data(co2Feed.key, co2, metadata)\n",
    "    aio.send_data(tvocFeed.key, tvoc, metadata)\n",
    "    #print data to google sheets\n",
    "    now=datetime.now()\n",
    "    now_time = now.strftime(\"%H:%M:%S\")\n",
    "    now_day = now.strftime(\"%m/%d/%Y\")\n",
    "    row=[now_day, now_time, f, q, h, p, co2, tvoc]\n",
    "    sheet.append_row(row)\n",
    "    #print data to notebook\n",
    "    print(f, \":°Fahrenheit|\")\n",
    "    print(q, \":°Fahrenheit|\")\n",
    "    print(h, \":Humidity|\")\n",
    "    print(p, \":Barometric Pressure|\")\n",
    "    print(co2, \": PPM (CO2)|\")\n",
    "    print(tvoc, \":PPB (TVOC)|\")\n",
    "    print()\n",
    "    #time in between the intervals the Pi takes data (fifteen seconds for me)\n",
    "    time.sleep(15)"
   ]
  },
  {
   "cell_type": "code",
   "execution_count": null,
   "id": "f24b0cf6",
   "metadata": {},
   "outputs": [],
   "source": []
  }
 ],
 "metadata": {
  "kernelspec": {
   "display_name": "Python 3",
   "language": "python",
   "name": "python3"
  },
  "language_info": {
   "codemirror_mode": {
    "name": "ipython",
    "version": 3
   },
   "file_extension": ".py",
   "mimetype": "text/x-python",
   "name": "python",
   "nbconvert_exporter": "python",
   "pygments_lexer": "ipython3",
   "version": "3.7.3"
  }
 },
 "nbformat": 4,
 "nbformat_minor": 5
}
