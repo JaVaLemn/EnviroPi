{
 "cells": [
  {
   "cell_type": "markdown",
   "id": "1fbee6a1",
   "metadata": {},
   "source": [
    "# Environmental Master Code\n",
    "## This is my master code for the Raspberry Pi.\n",
    "##### Please do not edit, copy, or use without permission from owner, thank you."
   ]
  },
  {
   "cell_type": "markdown",
   "id": "2c0b8f84",
   "metadata": {},
   "source": [
    "### Import coding libraries to use"
   ]
  },
  {
   "cell_type": "code",
   "execution_count": 1,
   "id": "862c7ad9",
   "metadata": {},
   "outputs": [],
   "source": [
    "import busio ##black sensor library\n",
    "import board ##black sensor library\n",
    "import adafruit_ccs811 ##black sensor library\n",
    "import smbus ##blue sensor libarary\n",
    "import time ##library for general use\n",
    "##import gspread ##google sheets library"
   ]
  },
  {
   "cell_type": "markdown",
   "id": "b758ba2f",
   "metadata": {},
   "source": [
    "### Code for Google Sheets - currently invalid"
   ]
  },
  {
   "cell_type": "code",
   "execution_count": 1,
   "id": "2aaa5bcf",
   "metadata": {},
   "outputs": [],
   "source": [
    "from oauth2client.service_account import ServiceAccountCredentials\n",
    "\n",
    "# use creds to create a client to interact with the Google Drive API\n",
    "scopes = [\"https://www.googleapis.com/auth/drive\", \"https://www.googleapis.com/auth/drive.file\", \"https://www.googleapis.com/auth/spreadsheets\"]\n",
    "creds = ServiceAccountCredentials.from_json_keyfile_name('client_secret.json', scopes)\n",
    "client = gspread.authorize(creds)\n",
    "\n",
    "# Find a workbook by name and open the first sheet\n",
    "# Make sure you use the right name here.\n",
    "sheet = client.open(\"PiLog\").sheet1"
   ]
  },
  {
   "cell_type": "code",
   "execution_count": 2,
   "id": "f503f588",
   "metadata": {},
   "outputs": [],
   "source": [
    "#rowcode for google sheets\n",
    "row = [\"hi\", \"this\", \"is\", \"KT\"]\n",
    "index = 1\n",
    "sheet.insert_row(row, index)"
   ]
  },
  {
   "cell_type": "code",
   "execution_count": 3,
   "id": "6051e305",
   "metadata": {},
   "outputs": [],
   "source": [
    "#rowcode for google sheets\n",
    "sheet.append_row(row)"
   ]
  },
  {
   "cell_type": "code",
   "execution_count": 5,
   "id": "e20ab9d9",
   "metadata": {},
   "outputs": [],
   "source": [
    "#rowcode for google sheets\n",
    "for i in range(10):\n",
    "    row=[i,2*i,i-7]\n",
    "    sheet.append_row(row)"
   ]
  },
  {
   "cell_type": "markdown",
   "id": "32e5f39d",
   "metadata": {},
   "source": [
    "### Code for the black external sensor"
   ]
  },
  {
   "cell_type": "code",
   "execution_count": 2,
   "id": "84578aa4",
   "metadata": {},
   "outputs": [],
   "source": [
    "from board import *\n",
    "i2c = board.I2C()   # uses board.SCL and board.SDA"
   ]
  },
  {
   "cell_type": "code",
   "execution_count": 3,
   "id": "a393b0e8",
   "metadata": {},
   "outputs": [],
   "source": [
    "#black sensor talks with adafruit\n",
    "ccs =  adafruit_ccs811.CCS811(i2c)"
   ]
  },
  {
   "cell_type": "code",
   "execution_count": 4,
   "id": "eb1b8b92",
   "metadata": {},
   "outputs": [],
   "source": [
    "#print black sensor readings\n",
    "while True:\n",
    "    print(\"CO2: \", ccs.eco2, \" TVOC:\", ccs.tvoc)\n",
    "    print(ccs.data_ready)\n",
    "    time.sleep(3)"
   ]
  },
  {
   "cell_type": "markdown",
   "id": "a10fb706",
   "metadata": {},
   "source": [
    "### Code for the blue external sensor"
   ]
  },
  {
   "cell_type": "code",
   "execution_count": 5,
   "id": "1e4a7758",
   "metadata": {},
   "outputs": [],
   "source": [
    "#read blue sensor data and calculate the external temperature\n",
    "def readTemp():\n",
    "    # By default the address of LM75A is set to 0x48\n",
    "    address = 0x48\n",
    "\n",
    "    # Read I2C data and calculate temperature\n",
    "    bus = smbus.SMBus(1)\n",
    "    raw = bus.read_word_data(address, 0) & 0xFFFF\n",
    "    raw = ((raw << 8) & 0xFF00) + (raw >> 8)\n",
    "    temperature = (raw / 32.0) / 8.0\n",
    "    return temperature"
   ]
  },
  {
   "cell_type": "code",
   "execution_count": 5,
   "id": "133c48c0",
   "metadata": {
    "scrolled": false
   },
   "outputs": [],
   "source": [
    "#contact and sign into Adafruit with the .env\n",
    "from Adafruit_IO import Client, Feed, RequestError\n",
    "from dotenv import load_dotenv\n",
    "import os\n",
    "\n",
    "#Load login token from .env file\n",
    "load_dotenv()\n",
    "\n",
    "ADAFRUIT_IO_USERNAME = os.environ.get(\"ADAFRUIT_IO_USERNAME\")\n",
    "ADAFRUIT_IO_KEY = os.environ.get(\"ADAFRUIT_IO_KEY\")\n",
    "\n",
    "aio = Client(ADAFRUIT_IO_USERNAME, ADAFRUIT_IO_KEY)"
   ]
  },
  {
   "cell_type": "code",
   "execution_count": 7,
   "id": "e2559358",
   "metadata": {},
   "outputs": [],
   "source": [
    "#bme 280\n",
    "from bme280 import BME280\n",
    "bme280 = BME280()"
   ]
  },
  {
   "cell_type": "markdown",
   "id": "8a448ddf",
   "metadata": {},
   "source": [
    "### Black and blue sensor master print"
   ]
  },
  {
   "cell_type": "code",
   "execution_count": 7,
   "id": "8ebcda33",
   "metadata": {
    "scrolled": true
   },
   "outputs": [],
   "source": [
    "#read feeds, create metadata, create letter variables, print data\n",
    "exterFeed = aio.feeds(\"external\")\n",
    "tempFeed = aio.feeds(\"temperature\")\n",
    "humidFeed = aio.feeds(\"humidity\")\n",
    "pressFeed = aio.feeds(\"pressure\")\n",
    "co2Feed = aio.feeds(\"co2\")\n",
    "tvocFeed = aio.feeds(\"tvoc\")\n",
    "\n",
    "metadata = {\"lat\": 40.262726,\n",
    "            \"lon\": -74.94198,\n",
    "            \"ele\": 0,\n",
    "            \"created_at\": None}\n",
    "while True:\n",
    "    e = readTemp()\n",
    "    t = bme280.get_temperature()\n",
    "    f = e * (9./5.) +32\n",
    "    q = t * (9./5.) +32 \n",
    "    h = bme280.get_humidity()\n",
    "    p = bme280.get_pressure()\n",
    "    co2 = ccs.eco2\n",
    "    tvoc = ccs.tvoc\n",
    "    aio.send_data(exterFeed.key, f, metadata)\n",
    "    aio.send_data(tempFeed.key, q, metadata)\n",
    "    aio.send_data(humidFeed.key, h, metadata)\n",
    "    aio.send_data(pressFeed.key, p, metadata)\n",
    "    aio.send_data(co2Feed.key, co2, metadata)\n",
    "    aio.send_data(tvocFeed.key, tvoc, metadata)\n",
    "    print(f, \":°Fahrenheit|\")\n",
    "    print(q, \":°Fahrenheit|\")\n",
    "    print(h, \":Humidity|\")\n",
    "    print(p, \":Barometric Pressure|\")\n",
    "    print(co2, \": PPM (CO2)|\")\n",
    "    print(tvoc, \":PPB (TVOC)|\")\n",
    "    print()\n",
    "    time.sleep(15)"
   ]
  },
  {
   "cell_type": "code",
   "execution_count": null,
   "id": "dd286265",
   "metadata": {},
   "outputs": [],
   "source": []
  }
 ],
 "metadata": {
  "kernelspec": {
   "display_name": "Python 3",
   "language": "python",
   "name": "python3"
  },
  "language_info": {
   "codemirror_mode": {
    "name": "ipython",
    "version": 3
   },
   "file_extension": ".py",
   "mimetype": "text/x-python",
   "name": "python",
   "nbconvert_exporter": "python",
   "pygments_lexer": "ipython3",
   "version": "3.7.3"
  }
 },
 "nbformat": 4,
 "nbformat_minor": 5
}
